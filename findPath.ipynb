{
 "cells": [
  {
   "cell_type": "code",
   "execution_count": 1,
   "metadata": {},
   "outputs": [
    {
     "data": {
      "text/plain": [
       "{('tokenA', 'tokenB'): (17, 10),\n",
       " ('tokenA', 'tokenC'): (11, 7),\n",
       " ('tokenA', 'tokenD'): (15, 9),\n",
       " ('tokenA', 'tokenE'): (21, 5),\n",
       " ('tokenB', 'tokenC'): (36, 4),\n",
       " ('tokenB', 'tokenD'): (13, 6),\n",
       " ('tokenB', 'tokenE'): (25, 3),\n",
       " ('tokenC', 'tokenD'): (30, 12),\n",
       " ('tokenC', 'tokenE'): (10, 8),\n",
       " ('tokenD', 'tokenE'): (60, 25)}"
      ]
     },
     "execution_count": 1,
     "metadata": {},
     "output_type": "execute_result"
    }
   ],
   "source": [
    "from Arbitrage import liquidity\n",
    "liquidity"
   ]
  },
  {
   "cell_type": "code",
   "execution_count": 4,
   "metadata": {},
   "outputs": [
    {
     "data": {
      "text/plain": [
       "[[1, 0.5882352941176471, 0.6363636363636364, 0.6, 0.23809523809523808],\n",
       " [1.7, 1, 0.1111111111111111, 0.46153846153846156, 0.12],\n",
       " [1.5714285714285714, 9.0, 1, 0.4, 0.8],\n",
       " [1.6666666666666667, 2.1666666666666665, 2.5, 1, 0.4166666666666667],\n",
       " [4.2, 8.333333333333334, 1.25, 2.4, 1]]"
      ]
     },
     "execution_count": 4,
     "metadata": {},
     "output_type": "execute_result"
    }
   ],
   "source": [
    "currencies = ('tokenA', 'tokenB', 'tokenC', 'tokenD', 'tokenE')\n",
    "\n",
    "rates = [[1]*len(currencies) for i in range(len(currencies))]\n",
    "\n",
    "for i in range(len(currencies)):\n",
    "    for j in range(i+1, len(currencies)):\n",
    "        x, y = liquidity[(currencies[i], currencies[j])]\n",
    "        rates[i][j] = y/x\n",
    "        rates[j][i] = x/y\n",
    "rates\n",
    "        \n",
    "            "
   ]
  },
  {
   "cell_type": "code",
   "execution_count": 7,
   "metadata": {},
   "outputs": [
    {
     "name": "stdout",
     "output_type": "stream",
     "text": [
      "Arbitrage Opportunity: \n",
      "\n",
      "tokenD --> tokenC --> tokenB --> tokenA --> tokenD\n",
      "Arbitrage Opportunity: \n",
      "\n",
      "tokenE --> tokenD --> tokenC --> tokenE\n",
      "Arbitrage Opportunity: \n",
      "\n",
      "tokenC --> tokenE --> tokenD --> tokenC --> tokenB --> tokenA\n",
      "Arbitrage Opportunity: \n",
      "\n",
      "tokenC --> tokenE --> tokenD --> tokenC --> tokenA\n",
      "Arbitrage Opportunity: \n",
      "\n",
      "tokenC --> tokenE --> tokenD --> tokenC\n"
     ]
    }
   ],
   "source": [
    "from typing import Tuple, List\n",
    "from math import log\n",
    "\n",
    "def negate_logarithm_convertor(graph: Tuple[Tuple[float]]) -> List[List[float]]:\n",
    "    ''' log of each rate in graph and negate it'''\n",
    "    result = [[-log(edge) for edge in row] for row in graph]\n",
    "    return result\n",
    "\n",
    "\n",
    "def arbitrage(currency_tuple: tuple, rates_matrix: Tuple[Tuple[float, ...]]):\n",
    "    ''' Calculates arbitrage situations and prints out the details of this calculations'''\n",
    "\n",
    "    trans_graph = negate_logarithm_convertor(rates_matrix)\n",
    "\n",
    "    # Pick any source vertex -- we can run Bellman-Ford from any vertex and get the right result\n",
    "\n",
    "    source = 0\n",
    "    n = len(trans_graph)\n",
    "    min_dist = [float('inf')] * n\n",
    "\n",
    "    pre = [-1] * n\n",
    "    \n",
    "    min_dist[source] = source\n",
    "\n",
    "    # 'Relax edges |V-1| times'\n",
    "    for _ in range(n-1):\n",
    "        for source_curr in range(n):\n",
    "            for dest_curr in range(n):\n",
    "                if min_dist[dest_curr] > min_dist[source_curr] + trans_graph[source_curr][dest_curr]:\n",
    "                    min_dist[dest_curr] = min_dist[source_curr] + trans_graph[source_curr][dest_curr]\n",
    "                    pre[dest_curr] = source_curr\n",
    "\n",
    "    # if we can still relax edges, then we have a negative cycle\n",
    "    for source_curr in range(n):\n",
    "        for dest_curr in range(n):\n",
    "            if min_dist[dest_curr] > min_dist[source_curr] + trans_graph[source_curr][dest_curr]:\n",
    "                # negative cycle exists, and use the predecessor chain to print the cycle\n",
    "                print_cycle = [dest_curr, source_curr]\n",
    "                # Start from the source and go backwards until you see the source vertex again or any vertex that already exists in print_cycle array\n",
    "                while pre[source_curr] not in  print_cycle:\n",
    "                    print_cycle.append(pre[source_curr])\n",
    "                    source_curr = pre[source_curr]\n",
    "                print_cycle.append(pre[source_curr])\n",
    "                print(\"Arbitrage Opportunity: \\n\")\n",
    "                print(\" --> \".join([currencies[p] for p in print_cycle[::-1]]))\n",
    "\n",
    "\n",
    "arbitrage(currencies, rates)"
   ]
  },
  {
   "cell_type": "code",
   "execution_count": null,
   "metadata": {},
   "outputs": [],
   "source": [
    "curr_token = 'tokenB'\n",
    "curr_value = 5\n",
    "token_list = ['tokenA', 'tokenB', 'tokenC', 'tokenD', 'tokenE']\n",
    "\n",
    "while curr_token != 'tokenB' and curr_value < 20:\n",
    "    max_\n",
    "    for "
   ]
  }
 ],
 "metadata": {
  "kernelspec": {
   "display_name": "Python 3",
   "language": "python",
   "name": "python3"
  },
  "language_info": {
   "codemirror_mode": {
    "name": "ipython",
    "version": 3
   },
   "file_extension": ".py",
   "mimetype": "text/x-python",
   "name": "python",
   "nbconvert_exporter": "python",
   "pygments_lexer": "ipython3",
   "version": "3.9.6"
  }
 },
 "nbformat": 4,
 "nbformat_minor": 2
}
